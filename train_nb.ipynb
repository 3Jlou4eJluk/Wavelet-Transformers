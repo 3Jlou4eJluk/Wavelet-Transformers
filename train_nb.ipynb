{
 "cells": [
  {
   "cell_type": "code",
   "execution_count": 10,
   "metadata": {},
   "outputs": [],
   "source": [
    "import numpy as np\n",
    "import torch\n",
    "import tensorflow as tf\n",
    "\n",
    "from torch.utils.data import DataLoader\n",
    "\n",
    "from models import TransformerModelV4\n",
    "from datasets import DatasetV4\n",
    "from learning_process import Learner"
   ]
  },
  {
   "cell_type": "code",
   "execution_count": 3,
   "metadata": {},
   "outputs": [],
   "source": [
    "train, test = tf.keras.datasets.cifar10.load_data()\n",
    "trainx, trainy = train \n",
    "testx, testy = test"
   ]
  },
  {
   "cell_type": "code",
   "execution_count": 13,
   "metadata": {},
   "outputs": [],
   "source": [
    "#\n",
    "# Data settings\n",
    "#\n",
    "\n",
    "WT_N_LEVELS = 4\n",
    "COEF_SAVE_RATE = 0.1\n",
    "USE_ORIGINAL_DATA = False\n",
    "ADD_APPROX = True\n",
    "DISCR_BINS = 10\n",
    "\n",
    "BATCH_SIZE = 128"
   ]
  },
  {
   "cell_type": "code",
   "execution_count": 6,
   "metadata": {},
   "outputs": [],
   "source": [
    "train_ds = DatasetV4(\n",
    "    trainx,\n",
    "    trainy,\n",
    "    WT_N_LEVELS,\n",
    "    COEF_SAVE_RATE,\n",
    "    USE_ORIGINAL_DATA,\n",
    "    ADD_APPROX,\n",
    "    DISCR_BINS\n",
    ")\n",
    "\n",
    "test_ds = DatasetV4(\n",
    "    testx,\n",
    "    testy,\n",
    "    WT_N_LEVELS,\n",
    "    COEF_SAVE_RATE,\n",
    "    USE_ORIGINAL_DATA,\n",
    "    ADD_APPROX,\n",
    "    DISCR_BINS\n",
    ")\n",
    "\n",
    "train_dl = DataLoader(train_ds, batch_size=BATCH_SIZE)\n",
    "test_dl = DataLoader(test_ds, batch_size=BATCH_SIZE)"
   ]
  },
  {
   "cell_type": "code",
   "execution_count": 7,
   "metadata": {},
   "outputs": [],
   "source": [
    "test_ret = train_ds[0]"
   ]
  },
  {
   "cell_type": "code",
   "execution_count": 8,
   "metadata": {},
   "outputs": [],
   "source": [
    "model = TransformerModelV4(\n",
    "    test_ret[0].shape[0],\n",
    "    2048,\n",
    "    8,\n",
    "    10,\n",
    "    8,\n",
    "    8,\n",
    "    0,\n",
    "    10,\n",
    "    1024,\n",
    "    5,\n",
    "    True,\n",
    "    0.2,\n",
    "    train_ds.tokens_per_obj\n",
    ")"
   ]
  },
  {
   "cell_type": "code",
   "execution_count": 9,
   "metadata": {},
   "outputs": [],
   "source": [
    "optimizer = torch.optim.AdamW(model.parameters(), lr=1e-3)\n",
    "scheduler = None\n",
    "loss_fn = torch.nn.CrossEntropyLoss()"
   ]
  },
  {
   "cell_type": "code",
   "execution_count": 12,
   "metadata": {},
   "outputs": [],
   "source": [
    "learner = Learner(\n",
    "    model,\n",
    "    optimizer,\n",
    "    loss_fn,\n",
    "    scheduler,\n",
    "    train_dl,\n",
    "    test_dl,\n",
    "    torch.cuda.is_available(),\n",
    "    10\n",
    ")"
   ]
  },
  {
   "cell_type": "code",
   "execution_count": null,
   "metadata": {},
   "outputs": [],
   "source": []
  }
 ],
 "metadata": {
  "kernelspec": {
   "display_name": "venv",
   "language": "python",
   "name": "python3"
  },
  "language_info": {
   "codemirror_mode": {
    "name": "ipython",
    "version": 3
   },
   "file_extension": ".py",
   "mimetype": "text/x-python",
   "name": "python",
   "nbconvert_exporter": "python",
   "pygments_lexer": "ipython3",
   "version": "3.11.6"
  }
 },
 "nbformat": 4,
 "nbformat_minor": 2
}
